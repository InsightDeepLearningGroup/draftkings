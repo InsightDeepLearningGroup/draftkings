{
 "cells": [
  {
   "cell_type": "code",
   "execution_count": 62,
   "metadata": {
    "collapsed": true
   },
   "outputs": [],
   "source": [
    "import numpy as np\n",
    "import pandas as pd\n",
    "import os"
   ]
  },
  {
   "cell_type": "code",
   "execution_count": 104,
   "metadata": {},
   "outputs": [
    {
     "name": "stdout",
     "output_type": "stream",
     "text": [
      "The autoreload extension is already loaded. To reload it, use:\n",
      "  %reload_ext autoreload\n"
     ]
    }
   ],
   "source": [
    "%load_ext autoreload\n",
    "%autoreload 2"
   ]
  },
  {
   "cell_type": "code",
   "execution_count": 111,
   "metadata": {
    "collapsed": true
   },
   "outputs": [],
   "source": [
    "from etl_helpers import *\n",
    "from model_helpers import *"
   ]
  },
  {
   "cell_type": "markdown",
   "metadata": {},
   "source": [
    "## Read in player results and salaries"
   ]
  },
  {
   "cell_type": "code",
   "execution_count": 79,
   "metadata": {},
   "outputs": [],
   "source": [
    "df_dict, df_salaries, df_points = import_data()"
   ]
  },
  {
   "cell_type": "code",
   "execution_count": 80,
   "metadata": {},
   "outputs": [
    {
     "data": {
      "text/html": [
       "<div>\n",
       "<style>\n",
       "    .dataframe thead tr:only-child th {\n",
       "        text-align: right;\n",
       "    }\n",
       "\n",
       "    .dataframe thead th {\n",
       "        text-align: left;\n",
       "    }\n",
       "\n",
       "    .dataframe tbody tr th {\n",
       "        vertical-align: top;\n",
       "    }\n",
       "</style>\n",
       "<table border=\"1\" class=\"dataframe\">\n",
       "  <thead>\n",
       "    <tr style=\"text-align: right;\">\n",
       "      <th></th>\n",
       "      <th>TeamID</th>\n",
       "      <th>Place</th>\n",
       "      <th>Team</th>\n",
       "      <th>Identifier</th>\n",
       "      <th>Abbreviation1</th>\n",
       "      <th>Abbreviation2</th>\n",
       "    </tr>\n",
       "  </thead>\n",
       "  <tbody>\n",
       "    <tr>\n",
       "      <th>0</th>\n",
       "      <td>0</td>\n",
       "      <td>Arizona</td>\n",
       "      <td>Cardinals</td>\n",
       "      <td>Arizona</td>\n",
       "      <td>ARI</td>\n",
       "      <td>ari</td>\n",
       "    </tr>\n",
       "    <tr>\n",
       "      <th>1</th>\n",
       "      <td>1</td>\n",
       "      <td>Atlanta</td>\n",
       "      <td>Falcons</td>\n",
       "      <td>Atlanta</td>\n",
       "      <td>ATL</td>\n",
       "      <td>atl</td>\n",
       "    </tr>\n",
       "    <tr>\n",
       "      <th>2</th>\n",
       "      <td>2</td>\n",
       "      <td>Baltimore</td>\n",
       "      <td>Ravens</td>\n",
       "      <td>Baltimore</td>\n",
       "      <td>BAL</td>\n",
       "      <td>bal</td>\n",
       "    </tr>\n",
       "    <tr>\n",
       "      <th>3</th>\n",
       "      <td>3</td>\n",
       "      <td>Buffalo</td>\n",
       "      <td>Bills</td>\n",
       "      <td>Buffalo</td>\n",
       "      <td>BUF</td>\n",
       "      <td>buf</td>\n",
       "    </tr>\n",
       "    <tr>\n",
       "      <th>4</th>\n",
       "      <td>4</td>\n",
       "      <td>Carolina</td>\n",
       "      <td>Panthers</td>\n",
       "      <td>Carolina</td>\n",
       "      <td>CAR</td>\n",
       "      <td>car</td>\n",
       "    </tr>\n",
       "  </tbody>\n",
       "</table>\n",
       "</div>"
      ],
      "text/plain": [
       "   TeamID      Place        Team Identifier Abbreviation1 Abbreviation2\n",
       "0       0    Arizona  Cardinals     Arizona           ARI           ari\n",
       "1       1    Atlanta    Falcons     Atlanta           ATL           atl\n",
       "2       2  Baltimore     Ravens   Baltimore           BAL           bal\n",
       "3       3    Buffalo      Bills     Buffalo           BUF           buf\n",
       "4       4   Carolina   Panthers    Carolina           CAR           car"
      ]
     },
     "execution_count": 80,
     "metadata": {},
     "output_type": "execute_result"
    }
   ],
   "source": [
    "df_dict.head()"
   ]
  },
  {
   "cell_type": "code",
   "execution_count": 81,
   "metadata": {},
   "outputs": [
    {
     "data": {
      "text/html": [
       "<div>\n",
       "<style>\n",
       "    .dataframe thead tr:only-child th {\n",
       "        text-align: right;\n",
       "    }\n",
       "\n",
       "    .dataframe thead th {\n",
       "        text-align: left;\n",
       "    }\n",
       "\n",
       "    .dataframe tbody tr th {\n",
       "        vertical-align: top;\n",
       "    }\n",
       "</style>\n",
       "<table border=\"1\" class=\"dataframe\">\n",
       "  <thead>\n",
       "    <tr style=\"text-align: right;\">\n",
       "      <th></th>\n",
       "      <th>Position</th>\n",
       "      <th>Name</th>\n",
       "      <th>Salary</th>\n",
       "      <th>GameInfo</th>\n",
       "      <th>AvgPointsPerGame</th>\n",
       "      <th>teamAbbrev</th>\n",
       "    </tr>\n",
       "  </thead>\n",
       "  <tbody>\n",
       "    <tr>\n",
       "      <th>0</th>\n",
       "      <td>WR</td>\n",
       "      <td>Antonio Brown</td>\n",
       "      <td>9300</td>\n",
       "      <td>PIT@BAL 01:00PM ET</td>\n",
       "      <td>24.467</td>\n",
       "      <td>PIT</td>\n",
       "    </tr>\n",
       "    <tr>\n",
       "      <th>1</th>\n",
       "      <td>WR</td>\n",
       "      <td>Odell Beckham Jr.</td>\n",
       "      <td>8900</td>\n",
       "      <td>NYG@TB 04:05PM ET</td>\n",
       "      <td>18.250</td>\n",
       "      <td>NYG</td>\n",
       "    </tr>\n",
       "    <tr>\n",
       "      <th>2</th>\n",
       "      <td>WR</td>\n",
       "      <td>Julio Jones</td>\n",
       "      <td>8800</td>\n",
       "      <td>BUF@ATL 01:00PM ET</td>\n",
       "      <td>15.167</td>\n",
       "      <td>ATL</td>\n",
       "    </tr>\n",
       "    <tr>\n",
       "      <th>3</th>\n",
       "      <td>RB</td>\n",
       "      <td>Le'Veon Bell</td>\n",
       "      <td>8700</td>\n",
       "      <td>PIT@BAL 01:00PM ET</td>\n",
       "      <td>14.200</td>\n",
       "      <td>PIT</td>\n",
       "    </tr>\n",
       "    <tr>\n",
       "      <th>4</th>\n",
       "      <td>WR</td>\n",
       "      <td>A.J. Green</td>\n",
       "      <td>8600</td>\n",
       "      <td>CIN@CLE 01:00PM ET</td>\n",
       "      <td>18.067</td>\n",
       "      <td>CIN</td>\n",
       "    </tr>\n",
       "  </tbody>\n",
       "</table>\n",
       "</div>"
      ],
      "text/plain": [
       "  Position               Name  Salary            GameInfo  AvgPointsPerGame  \\\n",
       "0       WR      Antonio Brown    9300  PIT@BAL 01:00PM ET            24.467   \n",
       "1       WR  Odell Beckham Jr.    8900   NYG@TB 04:05PM ET            18.250   \n",
       "2       WR        Julio Jones    8800  BUF@ATL 01:00PM ET            15.167   \n",
       "3       RB       Le'Veon Bell    8700  PIT@BAL 01:00PM ET            14.200   \n",
       "4       WR         A.J. Green    8600  CIN@CLE 01:00PM ET            18.067   \n",
       "\n",
       "  teamAbbrev  \n",
       "0        PIT  \n",
       "1        NYG  \n",
       "2        ATL  \n",
       "3        PIT  \n",
       "4        CIN  "
      ]
     },
     "execution_count": 81,
     "metadata": {},
     "output_type": "execute_result"
    }
   ],
   "source": [
    "df_salaries.head()"
   ]
  },
  {
   "cell_type": "code",
   "execution_count": 82,
   "metadata": {
    "scrolled": true
   },
   "outputs": [
    {
     "data": {
      "text/html": [
       "<div>\n",
       "<style>\n",
       "    .dataframe thead tr:only-child th {\n",
       "        text-align: right;\n",
       "    }\n",
       "\n",
       "    .dataframe thead th {\n",
       "        text-align: left;\n",
       "    }\n",
       "\n",
       "    .dataframe tbody tr th {\n",
       "        vertical-align: top;\n",
       "    }\n",
       "</style>\n",
       "<table border=\"1\" class=\"dataframe\">\n",
       "  <thead>\n",
       "    <tr style=\"text-align: right;\">\n",
       "      <th></th>\n",
       "      <th>Week</th>\n",
       "      <th>Year</th>\n",
       "      <th>GID</th>\n",
       "      <th>Name</th>\n",
       "      <th>Pos</th>\n",
       "      <th>Team</th>\n",
       "      <th>h/a</th>\n",
       "      <th>Oppt</th>\n",
       "      <th>DK points</th>\n",
       "      <th>DK salary</th>\n",
       "    </tr>\n",
       "  </thead>\n",
       "  <tbody>\n",
       "    <tr>\n",
       "      <th>0</th>\n",
       "      <td>1</td>\n",
       "      <td>2017</td>\n",
       "      <td>1254</td>\n",
       "      <td>Smith, Alex</td>\n",
       "      <td>QB</td>\n",
       "      <td>kan</td>\n",
       "      <td>a</td>\n",
       "      <td>nwe</td>\n",
       "      <td>34.02</td>\n",
       "      <td>5400.0</td>\n",
       "    </tr>\n",
       "    <tr>\n",
       "      <th>1</th>\n",
       "      <td>1</td>\n",
       "      <td>2017</td>\n",
       "      <td>1344</td>\n",
       "      <td>Bradford, Sam</td>\n",
       "      <td>QB</td>\n",
       "      <td>min</td>\n",
       "      <td>h</td>\n",
       "      <td>nor</td>\n",
       "      <td>28.54</td>\n",
       "      <td>5900.0</td>\n",
       "    </tr>\n",
       "    <tr>\n",
       "      <th>2</th>\n",
       "      <td>1</td>\n",
       "      <td>2017</td>\n",
       "      <td>1340</td>\n",
       "      <td>Stafford, Matthew</td>\n",
       "      <td>QB</td>\n",
       "      <td>det</td>\n",
       "      <td>h</td>\n",
       "      <td>ari</td>\n",
       "      <td>28.08</td>\n",
       "      <td>6100.0</td>\n",
       "    </tr>\n",
       "    <tr>\n",
       "      <th>3</th>\n",
       "      <td>1</td>\n",
       "      <td>2017</td>\n",
       "      <td>1514</td>\n",
       "      <td>Wentz, Carson</td>\n",
       "      <td>QB</td>\n",
       "      <td>phi</td>\n",
       "      <td>a</td>\n",
       "      <td>was</td>\n",
       "      <td>23.88</td>\n",
       "      <td>5300.0</td>\n",
       "    </tr>\n",
       "    <tr>\n",
       "      <th>4</th>\n",
       "      <td>1</td>\n",
       "      <td>2017</td>\n",
       "      <td>1488</td>\n",
       "      <td>Siemian, Trevor</td>\n",
       "      <td>QB</td>\n",
       "      <td>den</td>\n",
       "      <td>h</td>\n",
       "      <td>lac</td>\n",
       "      <td>23.66</td>\n",
       "      <td>5000.0</td>\n",
       "    </tr>\n",
       "  </tbody>\n",
       "</table>\n",
       "</div>"
      ],
      "text/plain": [
       "   Week  Year   GID               Name Pos Team h/a Oppt  DK points  DK salary\n",
       "0     1  2017  1254        Smith, Alex  QB  kan   a  nwe      34.02     5400.0\n",
       "1     1  2017  1344      Bradford, Sam  QB  min   h  nor      28.54     5900.0\n",
       "2     1  2017  1340  Stafford, Matthew  QB  det   h  ari      28.08     6100.0\n",
       "3     1  2017  1514      Wentz, Carson  QB  phi   a  was      23.88     5300.0\n",
       "4     1  2017  1488    Siemian, Trevor  QB  den   h  lac      23.66     5000.0"
      ]
     },
     "execution_count": 82,
     "metadata": {},
     "output_type": "execute_result"
    }
   ],
   "source": [
    "df_points.head()"
   ]
  },
  {
   "cell_type": "markdown",
   "metadata": {},
   "source": [
    "## Clean and merge data"
   ]
  },
  {
   "cell_type": "code",
   "execution_count": 87,
   "metadata": {},
   "outputs": [
    {
     "name": "stdout",
     "output_type": "stream",
     "text": [
      "Entries in salary dataframe: 570\n",
      "Entries in points dataframe: 1246\n",
      "Merged 1121 player entries\n",
      "Merged 94 team entries\n",
      "Merged 1215 entries total\n"
     ]
    }
   ],
   "source": [
    "df = clean_and_merge(df_dict=df_dict, df_salaries=df_salaries, df_points=df_points)"
   ]
  },
  {
   "cell_type": "code",
   "execution_count": 89,
   "metadata": {
    "scrolled": false
   },
   "outputs": [
    {
     "data": {
      "text/html": [
       "<div>\n",
       "<style>\n",
       "    .dataframe thead tr:only-child th {\n",
       "        text-align: right;\n",
       "    }\n",
       "\n",
       "    .dataframe thead th {\n",
       "        text-align: left;\n",
       "    }\n",
       "\n",
       "    .dataframe tbody tr th {\n",
       "        vertical-align: top;\n",
       "    }\n",
       "</style>\n",
       "<table border=\"1\" class=\"dataframe\">\n",
       "  <thead>\n",
       "    <tr style=\"text-align: right;\">\n",
       "      <th></th>\n",
       "      <th>TeamID</th>\n",
       "      <th>index_s</th>\n",
       "      <th>Position</th>\n",
       "      <th>Name_s</th>\n",
       "      <th>Salary</th>\n",
       "      <th>GameInfo</th>\n",
       "      <th>AvgPointsPerGame</th>\n",
       "      <th>Place_s</th>\n",
       "      <th>Team_s</th>\n",
       "      <th>Identifier_s</th>\n",
       "      <th>...</th>\n",
       "      <th>h/a</th>\n",
       "      <th>Oppt</th>\n",
       "      <th>DK points</th>\n",
       "      <th>DK salary</th>\n",
       "      <th>Place</th>\n",
       "      <th>Team</th>\n",
       "      <th>Identifier</th>\n",
       "      <th>Abbreviation1</th>\n",
       "      <th>Firstname</th>\n",
       "      <th>Lastname</th>\n",
       "    </tr>\n",
       "  </thead>\n",
       "  <tbody>\n",
       "    <tr>\n",
       "      <th>1</th>\n",
       "      <td>0</td>\n",
       "      <td>ARI</td>\n",
       "      <td>RB</td>\n",
       "      <td>David Johnson</td>\n",
       "      <td>6300</td>\n",
       "      <td>SF@ARI 04:05PM ET</td>\n",
       "      <td>14.100</td>\n",
       "      <td>Arizona</td>\n",
       "      <td>Cardinals</td>\n",
       "      <td>Arizona</td>\n",
       "      <td>...</td>\n",
       "      <td>a</td>\n",
       "      <td>det</td>\n",
       "      <td>14.10</td>\n",
       "      <td>9400.0</td>\n",
       "      <td>Arizona</td>\n",
       "      <td>Cardinals</td>\n",
       "      <td>Arizona</td>\n",
       "      <td>ARI</td>\n",
       "      <td>DAVID</td>\n",
       "      <td>JOHNSON</td>\n",
       "    </tr>\n",
       "    <tr>\n",
       "      <th>35</th>\n",
       "      <td>0</td>\n",
       "      <td>ARI</td>\n",
       "      <td>QB</td>\n",
       "      <td>Carson Palmer</td>\n",
       "      <td>6100</td>\n",
       "      <td>SF@ARI 04:05PM ET</td>\n",
       "      <td>18.847</td>\n",
       "      <td>Arizona</td>\n",
       "      <td>Cardinals</td>\n",
       "      <td>Arizona</td>\n",
       "      <td>...</td>\n",
       "      <td>a</td>\n",
       "      <td>det</td>\n",
       "      <td>11.96</td>\n",
       "      <td>6000.0</td>\n",
       "      <td>Arizona</td>\n",
       "      <td>Cardinals</td>\n",
       "      <td>Arizona</td>\n",
       "      <td>ARI</td>\n",
       "      <td>CARSON</td>\n",
       "      <td>PALMER</td>\n",
       "    </tr>\n",
       "    <tr>\n",
       "      <th>47</th>\n",
       "      <td>0</td>\n",
       "      <td>ARI</td>\n",
       "      <td>QB</td>\n",
       "      <td>Carson Palmer</td>\n",
       "      <td>6100</td>\n",
       "      <td>SF@ARI 04:05PM ET</td>\n",
       "      <td>18.847</td>\n",
       "      <td>Arizona</td>\n",
       "      <td>Cardinals</td>\n",
       "      <td>Arizona</td>\n",
       "      <td>...</td>\n",
       "      <td>a</td>\n",
       "      <td>ind</td>\n",
       "      <td>19.88</td>\n",
       "      <td>6000.0</td>\n",
       "      <td>Arizona</td>\n",
       "      <td>Cardinals</td>\n",
       "      <td>Arizona</td>\n",
       "      <td>ARI</td>\n",
       "      <td>CARSON</td>\n",
       "      <td>PALMER</td>\n",
       "    </tr>\n",
       "    <tr>\n",
       "      <th>58</th>\n",
       "      <td>0</td>\n",
       "      <td>ARI</td>\n",
       "      <td>QB</td>\n",
       "      <td>Carson Palmer</td>\n",
       "      <td>6100</td>\n",
       "      <td>SF@ARI 04:05PM ET</td>\n",
       "      <td>18.847</td>\n",
       "      <td>Arizona</td>\n",
       "      <td>Cardinals</td>\n",
       "      <td>Arizona</td>\n",
       "      <td>...</td>\n",
       "      <td>h</td>\n",
       "      <td>dal</td>\n",
       "      <td>24.70</td>\n",
       "      <td>6000.0</td>\n",
       "      <td>Arizona</td>\n",
       "      <td>Cardinals</td>\n",
       "      <td>Arizona</td>\n",
       "      <td>ARI</td>\n",
       "      <td>CARSON</td>\n",
       "      <td>PALMER</td>\n",
       "    </tr>\n",
       "    <tr>\n",
       "      <th>75</th>\n",
       "      <td>0</td>\n",
       "      <td>ARI</td>\n",
       "      <td>WR</td>\n",
       "      <td>Larry Fitzgerald</td>\n",
       "      <td>6100</td>\n",
       "      <td>SF@ARI 04:05PM ET</td>\n",
       "      <td>18.467</td>\n",
       "      <td>Arizona</td>\n",
       "      <td>Cardinals</td>\n",
       "      <td>Arizona</td>\n",
       "      <td>...</td>\n",
       "      <td>a</td>\n",
       "      <td>det</td>\n",
       "      <td>13.40</td>\n",
       "      <td>5900.0</td>\n",
       "      <td>Arizona</td>\n",
       "      <td>Cardinals</td>\n",
       "      <td>Arizona</td>\n",
       "      <td>ARI</td>\n",
       "      <td>LARRY</td>\n",
       "      <td>FITZGERALD</td>\n",
       "    </tr>\n",
       "  </tbody>\n",
       "</table>\n",
       "<p>5 rows × 29 columns</p>\n",
       "</div>"
      ],
      "text/plain": [
       "    TeamID index_s Position            Name_s  Salary           GameInfo  \\\n",
       "1        0     ARI       RB     David Johnson    6300  SF@ARI 04:05PM ET   \n",
       "35       0     ARI       QB     Carson Palmer    6100  SF@ARI 04:05PM ET   \n",
       "47       0     ARI       QB     Carson Palmer    6100  SF@ARI 04:05PM ET   \n",
       "58       0     ARI       QB     Carson Palmer    6100  SF@ARI 04:05PM ET   \n",
       "75       0     ARI       WR  Larry Fitzgerald    6100  SF@ARI 04:05PM ET   \n",
       "\n",
       "    AvgPointsPerGame  Place_s      Team_s Identifier_s     ...     h/a Oppt  \\\n",
       "1             14.100  Arizona  Cardinals       Arizona     ...       a  det   \n",
       "35            18.847  Arizona  Cardinals       Arizona     ...       a  det   \n",
       "47            18.847  Arizona  Cardinals       Arizona     ...       a  ind   \n",
       "58            18.847  Arizona  Cardinals       Arizona     ...       h  dal   \n",
       "75            18.467  Arizona  Cardinals       Arizona     ...       a  det   \n",
       "\n",
       "   DK points DK salary    Place        Team  Identifier Abbreviation1  \\\n",
       "1      14.10    9400.0  Arizona  Cardinals      Arizona           ARI   \n",
       "35     11.96    6000.0  Arizona  Cardinals      Arizona           ARI   \n",
       "47     19.88    6000.0  Arizona  Cardinals      Arizona           ARI   \n",
       "58     24.70    6000.0  Arizona  Cardinals      Arizona           ARI   \n",
       "75     13.40    5900.0  Arizona  Cardinals      Arizona           ARI   \n",
       "\n",
       "   Firstname    Lastname  \n",
       "1      DAVID     JOHNSON  \n",
       "35    CARSON      PALMER  \n",
       "47    CARSON      PALMER  \n",
       "58    CARSON      PALMER  \n",
       "75     LARRY  FITZGERALD  \n",
       "\n",
       "[5 rows x 29 columns]"
      ]
     },
     "execution_count": 89,
     "metadata": {},
     "output_type": "execute_result"
    }
   ],
   "source": [
    "df.head()"
   ]
  },
  {
   "cell_type": "code",
   "execution_count": 88,
   "metadata": {},
   "outputs": [
    {
     "data": {
      "text/plain": [
       "TeamID                int64\n",
       "index_s              object\n",
       "Position             object\n",
       "Name_s               object\n",
       "Salary                int64\n",
       "GameInfo             object\n",
       "AvgPointsPerGame    float64\n",
       "Place_s              object\n",
       "Team_s               object\n",
       "Identifier_s         object\n",
       "Abbreviation2        object\n",
       "Firstname_s          object\n",
       "Lastname_s           object\n",
       "index                object\n",
       "Week                  int64\n",
       "Year                  int64\n",
       "GID                   int64\n",
       "Name                 object\n",
       "Pos                  object\n",
       "h/a                  object\n",
       "Oppt                 object\n",
       "DK points           float64\n",
       "DK salary           float64\n",
       "Place                object\n",
       "Team                 object\n",
       "Identifier           object\n",
       "Abbreviation1        object\n",
       "Firstname            object\n",
       "Lastname             object\n",
       "dtype: object"
      ]
     },
     "execution_count": 88,
     "metadata": {},
     "output_type": "execute_result"
    }
   ],
   "source": [
    "df.dtypes"
   ]
  },
  {
   "cell_type": "code",
   "execution_count": 90,
   "metadata": {},
   "outputs": [
    {
     "data": {
      "text/html": [
       "<div>\n",
       "<style>\n",
       "    .dataframe thead tr:only-child th {\n",
       "        text-align: right;\n",
       "    }\n",
       "\n",
       "    .dataframe thead th {\n",
       "        text-align: left;\n",
       "    }\n",
       "\n",
       "    .dataframe tbody tr th {\n",
       "        vertical-align: top;\n",
       "    }\n",
       "</style>\n",
       "<table border=\"1\" class=\"dataframe\">\n",
       "  <thead>\n",
       "    <tr style=\"text-align: right;\">\n",
       "      <th></th>\n",
       "      <th>TeamID</th>\n",
       "      <th>Salary</th>\n",
       "      <th>AvgPointsPerGame</th>\n",
       "      <th>Week</th>\n",
       "      <th>Year</th>\n",
       "      <th>GID</th>\n",
       "      <th>DK points</th>\n",
       "      <th>DK salary</th>\n",
       "    </tr>\n",
       "  </thead>\n",
       "  <tbody>\n",
       "    <tr>\n",
       "      <th>count</th>\n",
       "      <td>1215.000000</td>\n",
       "      <td>1215.000000</td>\n",
       "      <td>1215.000000</td>\n",
       "      <td>1215.000000</td>\n",
       "      <td>1215.0</td>\n",
       "      <td>1215.000000</td>\n",
       "      <td>1215.000000</td>\n",
       "      <td>1215.000000</td>\n",
       "    </tr>\n",
       "    <tr>\n",
       "      <th>mean</th>\n",
       "      <td>15.241152</td>\n",
       "      <td>3986.337449</td>\n",
       "      <td>7.027020</td>\n",
       "      <td>2.028807</td>\n",
       "      <td>2017.0</td>\n",
       "      <td>4514.488889</td>\n",
       "      <td>7.046321</td>\n",
       "      <td>3907.654321</td>\n",
       "    </tr>\n",
       "    <tr>\n",
       "      <th>std</th>\n",
       "      <td>9.246592</td>\n",
       "      <td>1477.333745</td>\n",
       "      <td>6.346941</td>\n",
       "      <td>0.814809</td>\n",
       "      <td>0.0</td>\n",
       "      <td>1470.688864</td>\n",
       "      <td>7.950869</td>\n",
       "      <td>1467.444297</td>\n",
       "    </tr>\n",
       "    <tr>\n",
       "      <th>min</th>\n",
       "      <td>0.000000</td>\n",
       "      <td>2100.000000</td>\n",
       "      <td>-0.300000</td>\n",
       "      <td>1.000000</td>\n",
       "      <td>2017.0</td>\n",
       "      <td>1131.000000</td>\n",
       "      <td>-4.000000</td>\n",
       "      <td>0.000000</td>\n",
       "    </tr>\n",
       "    <tr>\n",
       "      <th>25%</th>\n",
       "      <td>7.000000</td>\n",
       "      <td>3000.000000</td>\n",
       "      <td>1.567000</td>\n",
       "      <td>1.000000</td>\n",
       "      <td>2017.0</td>\n",
       "      <td>3627.000000</td>\n",
       "      <td>0.100000</td>\n",
       "      <td>3000.000000</td>\n",
       "    </tr>\n",
       "    <tr>\n",
       "      <th>50%</th>\n",
       "      <td>15.000000</td>\n",
       "      <td>3500.000000</td>\n",
       "      <td>5.667000</td>\n",
       "      <td>2.000000</td>\n",
       "      <td>2017.0</td>\n",
       "      <td>4706.000000</td>\n",
       "      <td>4.200000</td>\n",
       "      <td>3500.000000</td>\n",
       "    </tr>\n",
       "    <tr>\n",
       "      <th>75%</th>\n",
       "      <td>23.000000</td>\n",
       "      <td>4700.000000</td>\n",
       "      <td>10.667000</td>\n",
       "      <td>3.000000</td>\n",
       "      <td>2017.0</td>\n",
       "      <td>5456.000000</td>\n",
       "      <td>11.000000</td>\n",
       "      <td>4600.000000</td>\n",
       "    </tr>\n",
       "    <tr>\n",
       "      <th>max</th>\n",
       "      <td>31.000000</td>\n",
       "      <td>9300.000000</td>\n",
       "      <td>34.600000</td>\n",
       "      <td>3.000000</td>\n",
       "      <td>2017.0</td>\n",
       "      <td>7032.000000</td>\n",
       "      <td>49.600000</td>\n",
       "      <td>9800.000000</td>\n",
       "    </tr>\n",
       "  </tbody>\n",
       "</table>\n",
       "</div>"
      ],
      "text/plain": [
       "            TeamID       Salary  AvgPointsPerGame         Week    Year  \\\n",
       "count  1215.000000  1215.000000       1215.000000  1215.000000  1215.0   \n",
       "mean     15.241152  3986.337449          7.027020     2.028807  2017.0   \n",
       "std       9.246592  1477.333745          6.346941     0.814809     0.0   \n",
       "min       0.000000  2100.000000         -0.300000     1.000000  2017.0   \n",
       "25%       7.000000  3000.000000          1.567000     1.000000  2017.0   \n",
       "50%      15.000000  3500.000000          5.667000     2.000000  2017.0   \n",
       "75%      23.000000  4700.000000         10.667000     3.000000  2017.0   \n",
       "max      31.000000  9300.000000         34.600000     3.000000  2017.0   \n",
       "\n",
       "               GID    DK points    DK salary  \n",
       "count  1215.000000  1215.000000  1215.000000  \n",
       "mean   4514.488889     7.046321  3907.654321  \n",
       "std    1470.688864     7.950869  1467.444297  \n",
       "min    1131.000000    -4.000000     0.000000  \n",
       "25%    3627.000000     0.100000  3000.000000  \n",
       "50%    4706.000000     4.200000  3500.000000  \n",
       "75%    5456.000000    11.000000  4600.000000  \n",
       "max    7032.000000    49.600000  9800.000000  "
      ]
     },
     "execution_count": 90,
     "metadata": {},
     "output_type": "execute_result"
    }
   ],
   "source": [
    "df.describe()"
   ]
  },
  {
   "cell_type": "markdown",
   "metadata": {},
   "source": [
    "## Create features"
   ]
  },
  {
   "cell_type": "code",
   "execution_count": null,
   "metadata": {
    "collapsed": true
   },
   "outputs": [],
   "source": []
  },
  {
   "cell_type": "markdown",
   "metadata": {},
   "source": [
    "## Pick team"
   ]
  },
  {
   "cell_type": "code",
   "execution_count": 95,
   "metadata": {
    "collapsed": true
   },
   "outputs": [],
   "source": [
    "weeks = df.Week.unique()"
   ]
  },
  {
   "cell_type": "code",
   "execution_count": 100,
   "metadata": {},
   "outputs": [],
   "source": [
    "team = sample_team(df=df.loc[df.Week == weeks.max()], seed=0)"
   ]
  },
  {
   "cell_type": "code",
   "execution_count": 101,
   "metadata": {},
   "outputs": [
    {
     "data": {
      "text/html": [
       "<div>\n",
       "<style>\n",
       "    .dataframe thead tr:only-child th {\n",
       "        text-align: right;\n",
       "    }\n",
       "\n",
       "    .dataframe thead th {\n",
       "        text-align: left;\n",
       "    }\n",
       "\n",
       "    .dataframe tbody tr th {\n",
       "        vertical-align: top;\n",
       "    }\n",
       "</style>\n",
       "<table border=\"1\" class=\"dataframe\">\n",
       "  <thead>\n",
       "    <tr style=\"text-align: right;\">\n",
       "      <th></th>\n",
       "      <th>GID</th>\n",
       "      <th>DK points</th>\n",
       "      <th>Salary</th>\n",
       "    </tr>\n",
       "  </thead>\n",
       "  <tbody>\n",
       "    <tr>\n",
       "      <th>0</th>\n",
       "      <td>1336</td>\n",
       "      <td>30.18</td>\n",
       "      <td>4800</td>\n",
       "    </tr>\n",
       "    <tr>\n",
       "      <th>1</th>\n",
       "      <td>5507</td>\n",
       "      <td>0.00</td>\n",
       "      <td>3000</td>\n",
       "    </tr>\n",
       "    <tr>\n",
       "      <th>2</th>\n",
       "      <td>2647</td>\n",
       "      <td>4.10</td>\n",
       "      <td>3800</td>\n",
       "    </tr>\n",
       "    <tr>\n",
       "      <th>3</th>\n",
       "      <td>5260</td>\n",
       "      <td>11.00</td>\n",
       "      <td>4600</td>\n",
       "    </tr>\n",
       "    <tr>\n",
       "      <th>4</th>\n",
       "      <td>5186</td>\n",
       "      <td>7.20</td>\n",
       "      <td>4600</td>\n",
       "    </tr>\n",
       "    <tr>\n",
       "      <th>5</th>\n",
       "      <td>5351</td>\n",
       "      <td>0.00</td>\n",
       "      <td>3300</td>\n",
       "    </tr>\n",
       "    <tr>\n",
       "      <th>6</th>\n",
       "      <td>4605</td>\n",
       "      <td>2.00</td>\n",
       "      <td>2500</td>\n",
       "    </tr>\n",
       "    <tr>\n",
       "      <th>7</th>\n",
       "      <td>5239</td>\n",
       "      <td>3.10</td>\n",
       "      <td>3000</td>\n",
       "    </tr>\n",
       "    <tr>\n",
       "      <th>8</th>\n",
       "      <td>7012</td>\n",
       "      <td>6.00</td>\n",
       "      <td>3600</td>\n",
       "    </tr>\n",
       "  </tbody>\n",
       "</table>\n",
       "</div>"
      ],
      "text/plain": [
       "    GID  DK points Salary\n",
       "0  1336      30.18   4800\n",
       "1  5507       0.00   3000\n",
       "2  2647       4.10   3800\n",
       "3  5260      11.00   4600\n",
       "4  5186       7.20   4600\n",
       "5  5351       0.00   3300\n",
       "6  4605       2.00   2500\n",
       "7  5239       3.10   3000\n",
       "8  7012       6.00   3600"
      ]
     },
     "execution_count": 101,
     "metadata": {},
     "output_type": "execute_result"
    }
   ],
   "source": [
    "team"
   ]
  },
  {
   "cell_type": "code",
   "execution_count": 109,
   "metadata": {},
   "outputs": [
    {
     "data": {
      "text/plain": [
       "63.580000000000005"
      ]
     },
     "execution_count": 109,
     "metadata": {},
     "output_type": "execute_result"
    }
   ],
   "source": [
    "get_performance(team, point_col='DK points')"
   ]
  },
  {
   "cell_type": "code",
   "execution_count": 106,
   "metadata": {
    "scrolled": true
   },
   "outputs": [
    {
     "data": {
      "text/plain": [
       "33200"
      ]
     },
     "execution_count": 106,
     "metadata": {},
     "output_type": "execute_result"
    }
   ],
   "source": [
    "get_salary(team)"
   ]
  },
  {
   "cell_type": "code",
   "execution_count": 131,
   "metadata": {},
   "outputs": [],
   "source": []
  },
  {
   "cell_type": "markdown",
   "metadata": {},
   "source": [
    "## Draw random teams"
   ]
  },
  {
   "cell_type": "code",
   "execution_count": 112,
   "metadata": {
    "collapsed": true
   },
   "outputs": [],
   "source": [
    "weeks = df.Week.unique()"
   ]
  },
  {
   "cell_type": "code",
   "execution_count": 114,
   "metadata": {},
   "outputs": [],
   "source": [
    "bestlist = multi_draw(df=df.loc[df.Week == weeks.max()], n=100, point_col='DK points')"
   ]
  },
  {
   "cell_type": "code",
   "execution_count": 115,
   "metadata": {
    "scrolled": true
   },
   "outputs": [
    {
     "data": {
      "text/plain": [
       "(99, 2)"
      ]
     },
     "execution_count": 115,
     "metadata": {},
     "output_type": "execute_result"
    }
   ],
   "source": [
    "np.shape(bestlist)"
   ]
  },
  {
   "cell_type": "code",
   "execution_count": 117,
   "metadata": {},
   "outputs": [],
   "source": [
    "bestteam = sample_team(df=df, seed=bestlist[0][1])"
   ]
  },
  {
   "cell_type": "code",
   "execution_count": 120,
   "metadata": {},
   "outputs": [
    {
     "data": {
      "text/plain": [
       "43.4"
      ]
     },
     "execution_count": 120,
     "metadata": {},
     "output_type": "execute_result"
    }
   ],
   "source": [
    "get_performance(bestteam)"
   ]
  },
  {
   "cell_type": "code",
   "execution_count": 119,
   "metadata": {},
   "outputs": [
    {
     "data": {
      "text/plain": [
       "37100"
      ]
     },
     "execution_count": 119,
     "metadata": {},
     "output_type": "execute_result"
    }
   ],
   "source": [
    "get_salary(bestteam)"
   ]
  },
  {
   "cell_type": "code",
   "execution_count": 185,
   "metadata": {},
   "outputs": [
    {
     "data": {
      "text/html": [
       "<div>\n",
       "<table border=\"1\" class=\"dataframe\">\n",
       "  <thead>\n",
       "    <tr style=\"text-align: right;\">\n",
       "      <th></th>\n",
       "      <th>GID</th>\n",
       "      <th>Team</th>\n",
       "      <th>Name</th>\n",
       "      <th>Position</th>\n",
       "      <th>Salary</th>\n",
       "      <th>DK points</th>\n",
       "    </tr>\n",
       "  </thead>\n",
       "  <tbody>\n",
       "    <tr>\n",
       "      <th>266</th>\n",
       "      <td>5159</td>\n",
       "      <td>Falcons</td>\n",
       "      <td>Sanu, Mohamed</td>\n",
       "      <td>WR</td>\n",
       "      <td>4500</td>\n",
       "      <td>12.80</td>\n",
       "    </tr>\n",
       "    <tr>\n",
       "      <th>1033</th>\n",
       "      <td>5447</td>\n",
       "      <td>Bears</td>\n",
       "      <td>Howard, Jordan</td>\n",
       "      <td>RB</td>\n",
       "      <td>4900</td>\n",
       "      <td>35.40</td>\n",
       "    </tr>\n",
       "    <tr>\n",
       "      <th>2544</th>\n",
       "      <td>4538</td>\n",
       "      <td>Packers</td>\n",
       "      <td>Kendricks, Lance</td>\n",
       "      <td>TE</td>\n",
       "      <td>2500</td>\n",
       "      <td>13.20</td>\n",
       "    </tr>\n",
       "    <tr>\n",
       "      <th>2569</th>\n",
       "      <td>1518</td>\n",
       "      <td>Texans</td>\n",
       "      <td>Watson, Deshaun</td>\n",
       "      <td>QB</td>\n",
       "      <td>4700</td>\n",
       "      <td>25.14</td>\n",
       "    </tr>\n",
       "    <tr>\n",
       "      <th>3502</th>\n",
       "      <td>5252</td>\n",
       "      <td>Rams</td>\n",
       "      <td>Watkins, Sammy</td>\n",
       "      <td>WR</td>\n",
       "      <td>5500</td>\n",
       "      <td>31.60</td>\n",
       "    </tr>\n",
       "    <tr>\n",
       "      <th>4072</th>\n",
       "      <td>5255</td>\n",
       "      <td>Patriots</td>\n",
       "      <td>Cooks, Brandin</td>\n",
       "      <td>WR</td>\n",
       "      <td>7300</td>\n",
       "      <td>35.10</td>\n",
       "    </tr>\n",
       "    <tr>\n",
       "      <th>6331</th>\n",
       "      <td>2915</td>\n",
       "      <td>Redskins</td>\n",
       "      <td>Thompson, Chris</td>\n",
       "      <td>RB</td>\n",
       "      <td>4500</td>\n",
       "      <td>33.80</td>\n",
       "    </tr>\n",
       "    <tr>\n",
       "      <th>26</th>\n",
       "      <td>7024</td>\n",
       "      <td>Steelers</td>\n",
       "      <td>Pittsburgh</td>\n",
       "      <td>DST</td>\n",
       "      <td>3400</td>\n",
       "      <td>6.00</td>\n",
       "    </tr>\n",
       "  </tbody>\n",
       "</table>\n",
       "</div>"
      ],
      "text/plain": [
       "       GID       Team              Name Position  Salary  DK points\n",
       "266   5159   Falcons      Sanu, Mohamed       WR    4500      12.80\n",
       "1033  5447     Bears     Howard, Jordan       RB    4900      35.40\n",
       "2544  4538   Packers   Kendricks, Lance       TE    2500      13.20\n",
       "2569  1518    Texans    Watson, Deshaun       QB    4700      25.14\n",
       "3502  5252      Rams     Watkins, Sammy       WR    5500      31.60\n",
       "4072  5255  Patriots     Cooks, Brandin       WR    7300      35.10\n",
       "6331  2915  Redskins    Thompson, Chris       RB    4500      33.80\n",
       "26    7024  Steelers         Pittsburgh      DST    3400       6.00"
      ]
     },
     "execution_count": 185,
     "metadata": {},
     "output_type": "execute_result"
    }
   ],
   "source": [
    "df.loc[df.GID.isin(bestteam.GID.values), ['GID', 'Team', 'Name', 'Position', 'Salary', 'DK points']]"
   ]
  },
  {
   "cell_type": "code",
   "execution_count": null,
   "metadata": {
    "collapsed": true
   },
   "outputs": [],
   "source": []
  }
 ],
 "metadata": {
  "kernelspec": {
   "display_name": "Python 3",
   "language": "python",
   "name": "python3"
  },
  "language_info": {
   "codemirror_mode": {
    "name": "ipython",
    "version": 3
   },
   "file_extension": ".py",
   "mimetype": "text/x-python",
   "name": "python",
   "nbconvert_exporter": "python",
   "pygments_lexer": "ipython3",
   "version": "3.5.4"
  }
 },
 "nbformat": 4,
 "nbformat_minor": 1
}
