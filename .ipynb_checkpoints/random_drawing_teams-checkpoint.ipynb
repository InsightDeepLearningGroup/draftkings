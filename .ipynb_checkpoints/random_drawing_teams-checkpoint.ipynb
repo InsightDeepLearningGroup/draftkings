{
 "cells": [
  {
   "cell_type": "code",
   "execution_count": 11,
   "metadata": {
    "collapsed": true
   },
   "outputs": [],
   "source": [
    "import numpy as np\n",
    "import pandas as pd\n",
    "from subprocess import call"
   ]
  },
  {
   "cell_type": "code",
   "execution_count": 3,
   "metadata": {
    "collapsed": false
   },
   "outputs": [],
   "source": [
    "%load_ext autoreload\n",
    "%autoreload 2"
   ]
  },
  {
   "cell_type": "code",
   "execution_count": 4,
   "metadata": {
    "collapsed": true
   },
   "outputs": [],
   "source": [
    "from etl_helpers import *"
   ]
  },
  {
   "cell_type": "markdown",
   "metadata": {},
   "source": [
    "## Read in player results from previous weeks and salary for this week"
   ]
  },
  {
   "cell_type": "code",
   "execution_count": 9,
   "metadata": {
    "collapsed": false
   },
   "outputs": [
    {
     "name": "stdout",
     "output_type": "stream",
     "text": [
      "1\n"
     ]
    }
   ],
   "source": [
    "df = read_historical_data()"
   ]
  },
  {
   "cell_type": "code",
   "execution_count": 8,
   "metadata": {
    "collapsed": false,
    "scrolled": true
   },
   "outputs": [
    {
     "data": {
      "text/html": [
       "<div>\n",
       "<table border=\"1\" class=\"dataframe\">\n",
       "  <thead>\n",
       "    <tr style=\"text-align: right;\">\n",
       "      <th></th>\n",
       "      <th>﻿Week</th>\n",
       "      <th>Year</th>\n",
       "      <th>GID</th>\n",
       "      <th>Name</th>\n",
       "      <th>Pos</th>\n",
       "      <th>Team</th>\n",
       "      <th>h/a</th>\n",
       "      <th>Oppt</th>\n",
       "      <th>DK points</th>\n",
       "      <th>DK salary</th>\n",
       "    </tr>\n",
       "  </thead>\n",
       "  <tbody>\n",
       "    <tr>\n",
       "      <th>0</th>\n",
       "      <td>1</td>\n",
       "      <td>2017</td>\n",
       "      <td>1254</td>\n",
       "      <td>Smith, Alex</td>\n",
       "      <td>QB</td>\n",
       "      <td>kan</td>\n",
       "      <td>a</td>\n",
       "      <td>nwe</td>\n",
       "      <td>34.02</td>\n",
       "      <td>5400.0</td>\n",
       "    </tr>\n",
       "    <tr>\n",
       "      <th>1</th>\n",
       "      <td>1</td>\n",
       "      <td>2017</td>\n",
       "      <td>1344</td>\n",
       "      <td>Bradford, Sam</td>\n",
       "      <td>QB</td>\n",
       "      <td>min</td>\n",
       "      <td>h</td>\n",
       "      <td>nor</td>\n",
       "      <td>28.54</td>\n",
       "      <td>5900.0</td>\n",
       "    </tr>\n",
       "    <tr>\n",
       "      <th>2</th>\n",
       "      <td>1</td>\n",
       "      <td>2017</td>\n",
       "      <td>1340</td>\n",
       "      <td>Stafford, Matthew</td>\n",
       "      <td>QB</td>\n",
       "      <td>det</td>\n",
       "      <td>h</td>\n",
       "      <td>ari</td>\n",
       "      <td>28.08</td>\n",
       "      <td>6100.0</td>\n",
       "    </tr>\n",
       "    <tr>\n",
       "      <th>3</th>\n",
       "      <td>1</td>\n",
       "      <td>2017</td>\n",
       "      <td>1514</td>\n",
       "      <td>Wentz, Carson</td>\n",
       "      <td>QB</td>\n",
       "      <td>phi</td>\n",
       "      <td>a</td>\n",
       "      <td>was</td>\n",
       "      <td>23.88</td>\n",
       "      <td>5300.0</td>\n",
       "    </tr>\n",
       "    <tr>\n",
       "      <th>4</th>\n",
       "      <td>1</td>\n",
       "      <td>2017</td>\n",
       "      <td>1488</td>\n",
       "      <td>Siemian, Trevor</td>\n",
       "      <td>QB</td>\n",
       "      <td>den</td>\n",
       "      <td>h</td>\n",
       "      <td>lac</td>\n",
       "      <td>23.66</td>\n",
       "      <td>5000.0</td>\n",
       "    </tr>\n",
       "  </tbody>\n",
       "</table>\n",
       "</div>"
      ],
      "text/plain": [
       "   ﻿Week  Year   GID               Name Pos Team h/a Oppt  DK points  \\\n",
       "0      1  2017  1254        Smith, Alex  QB  kan   a  nwe      34.02   \n",
       "1      1  2017  1344      Bradford, Sam  QB  min   h  nor      28.54   \n",
       "2      1  2017  1340  Stafford, Matthew  QB  det   h  ari      28.08   \n",
       "3      1  2017  1514      Wentz, Carson  QB  phi   a  was      23.88   \n",
       "4      1  2017  1488    Siemian, Trevor  QB  den   h  lac      23.66   \n",
       "\n",
       "   DK salary  \n",
       "0     5400.0  \n",
       "1     5900.0  \n",
       "2     6100.0  \n",
       "3     5300.0  \n",
       "4     5000.0  "
      ]
     },
     "execution_count": 8,
     "metadata": {},
     "output_type": "execute_result"
    }
   ],
   "source": [
    "df.head()"
   ]
  },
  {
   "cell_type": "code",
   "execution_count": 14,
   "metadata": {
    "collapsed": false
   },
   "outputs": [
    {
     "data": {
      "text/plain": [
       "0"
      ]
     },
     "execution_count": 14,
     "metadata": {},
     "output_type": "execute_result"
    }
   ],
   "source": [
    "call([\"ls\", \"-l\"])\n",
    "#print(cvs)\n"
   ]
  },
  {
   "cell_type": "code",
   "execution_count": 126,
   "metadata": {
    "collapsed": false
   },
   "outputs": [],
   "source": [
    "df_week2 = pd.read_csv('DraftKingsWeek2.csv')\n",
    "df_week3 = pd.read_csv('DraftKingsWeek3.csv')\n",
    "df_week3_salaries = pd.read_csv('DKSalariesWeek3.csv')\n",
    "df_week4_salaries = pd.read_csv('DKSalariesWeek4.csv')\n",
    "df_teamdict = pd.read_csv('TeamDict.csv')"
   ]
  },
  {
   "cell_type": "code",
   "execution_count": 131,
   "metadata": {
    "collapsed": false
   },
   "outputs": [],
   "source": [
    "df_week3.Pos = df_week3.Pos.apply(lambda x: x.replace('Def', 'DST'))"
   ]
  },
  {
   "cell_type": "code",
   "execution_count": 132,
   "metadata": {
    "collapsed": false
   },
   "outputs": [],
   "source": [
    "df_week4_salaries = df_week3_salaries.set_index('teamAbbrev').join(df_teamdict.set_index('Abbreviation1')).reset_index()"
   ]
  },
  {
   "cell_type": "code",
   "execution_count": 133,
   "metadata": {
    "collapsed": false
   },
   "outputs": [],
   "source": [
    "df_week3 = df_week3.set_index('Team').join(df_teamdict.set_index('Abbreviation2')).reset_index()"
   ]
  },
  {
   "cell_type": "markdown",
   "metadata": {},
   "source": [
    "## Merge into one df using players' names"
   ]
  },
  {
   "cell_type": "code",
   "execution_count": 134,
   "metadata": {
    "collapsed": false
   },
   "outputs": [],
   "source": [
    "# Split name into first and last name\n",
    "dfpart = pd.DataFrame(df_week3['Name'].apply(lambda x: x\n",
    "                       .replace('.', '')\n",
    "                       .replace('Jr', '')\n",
    "                       .replace('Sr', '')\n",
    "                       .replace('-', '')\n",
    "                       .replace('\\'', '')\n",
    "                       .replace('II', '').upper().split(', ', maxsplit=1)[::-1]).values.tolist(), columns=['Firstname', 'Lastname'])"
   ]
  },
  {
   "cell_type": "code",
   "execution_count": 135,
   "metadata": {
    "collapsed": false
   },
   "outputs": [],
   "source": [
    "df_week3 = pd.concat([df_week3, dfpart], axis=1)"
   ]
  },
  {
   "cell_type": "code",
   "execution_count": 136,
   "metadata": {
    "collapsed": false
   },
   "outputs": [],
   "source": [
    "# Split name into first and last name\n",
    "dfpart = pd.DataFrame(df_week4_salaries['Name'].apply(lambda x: x.replace('.', '')\n",
    "                       .replace('Jr', '')\n",
    "                       .replace('Sr', '')\n",
    "                       .replace('-', '')\n",
    "                       .replace('\\'', '')\n",
    "                       .replace('II', '').upper().split(' ', maxsplit=1)).values.tolist(), columns=['Firstname', 'Lastname'])"
   ]
  },
  {
   "cell_type": "code",
   "execution_count": 137,
   "metadata": {
    "collapsed": false
   },
   "outputs": [],
   "source": [
    "df_week4_salaries = pd.concat([df_week4_salaries, dfpart], axis=1)"
   ]
  },
  {
   "cell_type": "code",
   "execution_count": 138,
   "metadata": {
    "collapsed": false,
    "scrolled": true
   },
   "outputs": [
    {
     "data": {
      "text/plain": [
       "(551, 428)"
      ]
     },
     "execution_count": 138,
     "metadata": {},
     "output_type": "execute_result"
    }
   ],
   "source": [
    "len(df_week4_salaries), len(df_week3)"
   ]
  },
  {
   "cell_type": "code",
   "execution_count": 144,
   "metadata": {
    "collapsed": false
   },
   "outputs": [],
   "source": [
    "df = df_week4_salaries.loc[~(df_week4_salaries.Position == 'DST')].set_index(['TeamID']).join(df_week3.loc[~(df_week3.Pos == 'DST')].set_index(['TeamID']), lsuffix='_s').reset_index()"
   ]
  },
  {
   "cell_type": "code",
   "execution_count": 145,
   "metadata": {
    "collapsed": false
   },
   "outputs": [],
   "source": [
    "df = df.loc[(df.Lastname == df.Lastname_s) & (df.Firstname == df.Firstname_s)]"
   ]
  },
  {
   "cell_type": "code",
   "execution_count": 146,
   "metadata": {
    "collapsed": false
   },
   "outputs": [
    {
     "data": {
      "text/plain": [
       "(387, 29)"
      ]
     },
     "execution_count": 146,
     "metadata": {},
     "output_type": "execute_result"
    }
   ],
   "source": [
    "df.shape"
   ]
  },
  {
   "cell_type": "markdown",
   "metadata": {},
   "source": [
    "merge the teams separately"
   ]
  },
  {
   "cell_type": "code",
   "execution_count": 147,
   "metadata": {
    "collapsed": true
   },
   "outputs": [],
   "source": [
    "df_teams = df_week4_salaries.loc[df_week4_salaries.Position == 'DST'].set_index(['TeamID']).join(df_week3.loc[df_week3.Pos == 'DST'].set_index(['TeamID']), lsuffix='_s').reset_index()"
   ]
  },
  {
   "cell_type": "code",
   "execution_count": 148,
   "metadata": {
    "collapsed": false,
    "scrolled": true
   },
   "outputs": [
    {
     "data": {
      "text/plain": [
       "(32, 29)"
      ]
     },
     "execution_count": 148,
     "metadata": {},
     "output_type": "execute_result"
    }
   ],
   "source": [
    "df_teams.shape"
   ]
  },
  {
   "cell_type": "markdown",
   "metadata": {},
   "source": [
    "concatenate"
   ]
  },
  {
   "cell_type": "code",
   "execution_count": 149,
   "metadata": {
    "collapsed": false
   },
   "outputs": [],
   "source": [
    "df = pd.concat([df, df_teams], axis=0)"
   ]
  },
  {
   "cell_type": "code",
   "execution_count": 150,
   "metadata": {
    "collapsed": false
   },
   "outputs": [],
   "source": [
    "df = df.fillna(value=0)"
   ]
  },
  {
   "cell_type": "code",
   "execution_count": 151,
   "metadata": {
    "collapsed": false
   },
   "outputs": [
    {
     "data": {
      "text/plain": [
       "(419, 29)"
      ]
     },
     "execution_count": 151,
     "metadata": {},
     "output_type": "execute_result"
    }
   ],
   "source": [
    "df.shape"
   ]
  },
  {
   "cell_type": "code",
   "execution_count": 153,
   "metadata": {
    "collapsed": false
   },
   "outputs": [
    {
     "data": {
      "text/plain": [
       "TeamID                int64\n",
       "index_s              object\n",
       "Position             object\n",
       "Name_s               object\n",
       "Salary                int64\n",
       "GameInfo             object\n",
       "AvgPointsPerGame    float64\n",
       "Place_s              object\n",
       "Team_s               object\n",
       "Identifier_s         object\n",
       "Abbreviation2        object\n",
       "Firstname_s          object\n",
       "Lastname_s           object\n",
       "index                object\n",
       "﻿Week                 int64\n",
       "Year                  int64\n",
       "GID                   int64\n",
       "Name                 object\n",
       "Pos                  object\n",
       "h/a                  object\n",
       "Oppt                 object\n",
       "DK points           float64\n",
       "DK salary           float64\n",
       "Place                object\n",
       "Team                 object\n",
       "Identifier           object\n",
       "Abbreviation1        object\n",
       "Firstname            object\n",
       "Lastname             object\n",
       "dtype: object"
      ]
     },
     "execution_count": 153,
     "metadata": {},
     "output_type": "execute_result"
    }
   ],
   "source": [
    "df.dtypes"
   ]
  },
  {
   "cell_type": "markdown",
   "metadata": {},
   "source": [
    "## Draw random teams"
   ]
  },
  {
   "cell_type": "code",
   "execution_count": 154,
   "metadata": {
    "collapsed": false,
    "scrolled": true
   },
   "outputs": [
    {
     "data": {
      "text/plain": [
       "array(['WR', 'QB', 'RB', 'TE', 'DST'], dtype=object)"
      ]
     },
     "execution_count": 154,
     "metadata": {},
     "output_type": "execute_result"
    }
   ],
   "source": [
    "df.Position.unique()"
   ]
  },
  {
   "cell_type": "markdown",
   "metadata": {},
   "source": [
    "Conditions: 1xQB, 2xRB, 3xWR, 1xTE, 1xFLEX, 1xDST, TotalSalary 50k"
   ]
  },
  {
   "cell_type": "code",
   "execution_count": 156,
   "metadata": {
    "collapsed": true
   },
   "outputs": [],
   "source": [
    "def sample_team(df=None, seed=0):\n",
    "    \n",
    "    team = pd.DataFrame(columns=['GID', 'DK points', 'Salary'])\n",
    "    team = team.append(df.loc[df.Position == 'QB', ['GID', 'DK points', 'Salary']].sample(n=1, replace=False, random_state=seed), ignore_index=True)\n",
    "    team = team.append(df.loc[df.Position == 'RB', ['GID', 'DK points', 'Salary']].sample(n=2, replace=False, random_state=seed), ignore_index=True)\n",
    "    team = team.append(df.loc[df.Position == 'WR', ['GID', 'DK points', 'Salary']].sample(n=3, replace=False, random_state=seed), ignore_index=True)\n",
    "    team = team.append(df.loc[df.Position == 'TE', ['GID', 'DK points', 'Salary']].sample(n=1, replace=False, random_state=seed), ignore_index=True)\n",
    "    team = team.append(df.loc[df.Position.isin(['WR', 'TE', 'RB']) & ~df.GID.isin(team), ['GID', 'DK points', 'Salary']].sample(n=1, replace=False, random_state=seed), ignore_index=True)\n",
    "    team = team.append(df.loc[df.Position == 'DST', ['GID', 'DK points', 'Salary']].sample(n=1, replace=False, random_state=seed), ignore_index=True)\n",
    "    \n",
    "    return team"
   ]
  },
  {
   "cell_type": "code",
   "execution_count": 159,
   "metadata": {
    "collapsed": false
   },
   "outputs": [],
   "source": [
    "def get_salary(team=None):\n",
    "    return np.sum(team['Salary'])  "
   ]
  },
  {
   "cell_type": "code",
   "execution_count": 160,
   "metadata": {
    "collapsed": true
   },
   "outputs": [],
   "source": [
    "def get_performance(team=None):\n",
    "    return np.sum(team['DK points'])"
   ]
  },
  {
   "cell_type": "code",
   "execution_count": 157,
   "metadata": {
    "collapsed": false
   },
   "outputs": [],
   "source": [
    "team = sample_team(df=df, seed=1)"
   ]
  },
  {
   "cell_type": "code",
   "execution_count": 158,
   "metadata": {
    "collapsed": false
   },
   "outputs": [
    {
     "data": {
      "text/html": [
       "<div>\n",
       "<table border=\"1\" class=\"dataframe\">\n",
       "  <thead>\n",
       "    <tr style=\"text-align: right;\">\n",
       "      <th></th>\n",
       "      <th>GID</th>\n",
       "      <th>DK points</th>\n",
       "      <th>Salary</th>\n",
       "    </tr>\n",
       "  </thead>\n",
       "  <tbody>\n",
       "    <tr>\n",
       "      <th>0</th>\n",
       "      <td>1232.0</td>\n",
       "      <td>13.0</td>\n",
       "      <td>6200.0</td>\n",
       "    </tr>\n",
       "    <tr>\n",
       "      <th>1</th>\n",
       "      <td>2888.0</td>\n",
       "      <td>21.8</td>\n",
       "      <td>8800.0</td>\n",
       "    </tr>\n",
       "    <tr>\n",
       "      <th>2</th>\n",
       "      <td>5470.0</td>\n",
       "      <td>1.8</td>\n",
       "      <td>3000.0</td>\n",
       "    </tr>\n",
       "    <tr>\n",
       "      <th>3</th>\n",
       "      <td>3670.0</td>\n",
       "      <td>13.9</td>\n",
       "      <td>4100.0</td>\n",
       "    </tr>\n",
       "    <tr>\n",
       "      <th>4</th>\n",
       "      <td>5578.0</td>\n",
       "      <td>0.0</td>\n",
       "      <td>3000.0</td>\n",
       "    </tr>\n",
       "    <tr>\n",
       "      <th>5</th>\n",
       "      <td>5458.0</td>\n",
       "      <td>9.3</td>\n",
       "      <td>3000.0</td>\n",
       "    </tr>\n",
       "    <tr>\n",
       "      <th>6</th>\n",
       "      <td>4552.0</td>\n",
       "      <td>3.1</td>\n",
       "      <td>4100.0</td>\n",
       "    </tr>\n",
       "    <tr>\n",
       "      <th>7</th>\n",
       "      <td>4708.0</td>\n",
       "      <td>1.6</td>\n",
       "      <td>2500.0</td>\n",
       "    </tr>\n",
       "    <tr>\n",
       "      <th>8</th>\n",
       "      <td>7028.0</td>\n",
       "      <td>-1.0</td>\n",
       "      <td>3500.0</td>\n",
       "    </tr>\n",
       "  </tbody>\n",
       "</table>\n",
       "</div>"
      ],
      "text/plain": [
       "      GID  DK points  Salary\n",
       "0  1232.0       13.0  6200.0\n",
       "1  2888.0       21.8  8800.0\n",
       "2  5470.0        1.8  3000.0\n",
       "3  3670.0       13.9  4100.0\n",
       "4  5578.0        0.0  3000.0\n",
       "5  5458.0        9.3  3000.0\n",
       "6  4552.0        3.1  4100.0\n",
       "7  4708.0        1.6  2500.0\n",
       "8  7028.0       -1.0  3500.0"
      ]
     },
     "execution_count": 158,
     "metadata": {},
     "output_type": "execute_result"
    }
   ],
   "source": [
    "team"
   ]
  },
  {
   "cell_type": "code",
   "execution_count": 161,
   "metadata": {
    "collapsed": false,
    "scrolled": true
   },
   "outputs": [
    {
     "data": {
      "text/plain": [
       "38200.0"
      ]
     },
     "execution_count": 161,
     "metadata": {},
     "output_type": "execute_result"
    }
   ],
   "source": [
    "get_salary(team)"
   ]
  },
  {
   "cell_type": "code",
   "execution_count": 162,
   "metadata": {
    "collapsed": false
   },
   "outputs": [
    {
     "data": {
      "text/plain": [
       "63.5"
      ]
     },
     "execution_count": 162,
     "metadata": {},
     "output_type": "execute_result"
    }
   ],
   "source": [
    "get_performance(team)"
   ]
  },
  {
   "cell_type": "code",
   "execution_count": 163,
   "metadata": {
    "collapsed": false
   },
   "outputs": [],
   "source": [
    "bestlist = []\n",
    "\n",
    "for i in range(1000000):\n",
    "    team = sample_team(df=df, seed=i)\n",
    "    if get_salary(team) < 50000.0:\n",
    "        perf = get_performance(team)\n",
    "        bestlist.append([perf, i])"
   ]
  },
  {
   "cell_type": "code",
   "execution_count": 164,
   "metadata": {
    "collapsed": false
   },
   "outputs": [
    {
     "data": {
      "text/plain": [
       "(999104, 2)"
      ]
     },
     "execution_count": 164,
     "metadata": {},
     "output_type": "execute_result"
    }
   ],
   "source": [
    "np.shape(bestlist)"
   ]
  },
  {
   "cell_type": "code",
   "execution_count": 165,
   "metadata": {
    "collapsed": true
   },
   "outputs": [],
   "source": [
    "bestlist.sort(reverse=True)"
   ]
  },
  {
   "cell_type": "code",
   "execution_count": 166,
   "metadata": {
    "collapsed": false
   },
   "outputs": [
    {
     "data": {
      "text/plain": [
       "450147"
      ]
     },
     "execution_count": 166,
     "metadata": {},
     "output_type": "execute_result"
    }
   ],
   "source": [
    "bestlist[0][1]"
   ]
  },
  {
   "cell_type": "code",
   "execution_count": 180,
   "metadata": {
    "collapsed": false
   },
   "outputs": [],
   "source": [
    "bestteam = sample_team(df=df, seed=bestlist[0][1])"
   ]
  },
  {
   "cell_type": "code",
   "execution_count": 181,
   "metadata": {
    "collapsed": false
   },
   "outputs": [
    {
     "data": {
      "text/html": [
       "<div>\n",
       "<table border=\"1\" class=\"dataframe\">\n",
       "  <thead>\n",
       "    <tr style=\"text-align: right;\">\n",
       "      <th></th>\n",
       "      <th>GID</th>\n",
       "      <th>DK points</th>\n",
       "      <th>Salary</th>\n",
       "    </tr>\n",
       "  </thead>\n",
       "  <tbody>\n",
       "    <tr>\n",
       "      <th>0</th>\n",
       "      <td>1518.0</td>\n",
       "      <td>25.14</td>\n",
       "      <td>4700.0</td>\n",
       "    </tr>\n",
       "    <tr>\n",
       "      <th>1</th>\n",
       "      <td>5447.0</td>\n",
       "      <td>35.40</td>\n",
       "      <td>4900.0</td>\n",
       "    </tr>\n",
       "    <tr>\n",
       "      <th>2</th>\n",
       "      <td>2915.0</td>\n",
       "      <td>33.80</td>\n",
       "      <td>4500.0</td>\n",
       "    </tr>\n",
       "    <tr>\n",
       "      <th>3</th>\n",
       "      <td>5159.0</td>\n",
       "      <td>12.80</td>\n",
       "      <td>4500.0</td>\n",
       "    </tr>\n",
       "    <tr>\n",
       "      <th>4</th>\n",
       "      <td>5252.0</td>\n",
       "      <td>31.60</td>\n",
       "      <td>5500.0</td>\n",
       "    </tr>\n",
       "    <tr>\n",
       "      <th>5</th>\n",
       "      <td>5255.0</td>\n",
       "      <td>35.10</td>\n",
       "      <td>7300.0</td>\n",
       "    </tr>\n",
       "    <tr>\n",
       "      <th>6</th>\n",
       "      <td>4538.0</td>\n",
       "      <td>13.20</td>\n",
       "      <td>2500.0</td>\n",
       "    </tr>\n",
       "    <tr>\n",
       "      <th>7</th>\n",
       "      <td>5252.0</td>\n",
       "      <td>31.60</td>\n",
       "      <td>5500.0</td>\n",
       "    </tr>\n",
       "    <tr>\n",
       "      <th>8</th>\n",
       "      <td>7024.0</td>\n",
       "      <td>6.00</td>\n",
       "      <td>3400.0</td>\n",
       "    </tr>\n",
       "  </tbody>\n",
       "</table>\n",
       "</div>"
      ],
      "text/plain": [
       "      GID  DK points  Salary\n",
       "0  1518.0      25.14  4700.0\n",
       "1  5447.0      35.40  4900.0\n",
       "2  2915.0      33.80  4500.0\n",
       "3  5159.0      12.80  4500.0\n",
       "4  5252.0      31.60  5500.0\n",
       "5  5255.0      35.10  7300.0\n",
       "6  4538.0      13.20  2500.0\n",
       "7  5252.0      31.60  5500.0\n",
       "8  7024.0       6.00  3400.0"
      ]
     },
     "execution_count": 181,
     "metadata": {},
     "output_type": "execute_result"
    }
   ],
   "source": [
    "bestteam"
   ]
  },
  {
   "cell_type": "code",
   "execution_count": 182,
   "metadata": {
    "collapsed": false
   },
   "outputs": [
    {
     "data": {
      "text/plain": [
       "42800.0"
      ]
     },
     "execution_count": 182,
     "metadata": {},
     "output_type": "execute_result"
    }
   ],
   "source": [
    "get_salary(bestteam)"
   ]
  },
  {
   "cell_type": "code",
   "execution_count": 183,
   "metadata": {
    "collapsed": false
   },
   "outputs": [
    {
     "data": {
      "text/plain": [
       "224.64"
      ]
     },
     "execution_count": 183,
     "metadata": {},
     "output_type": "execute_result"
    }
   ],
   "source": [
    "get_performance(bestteam)"
   ]
  },
  {
   "cell_type": "code",
   "execution_count": 185,
   "metadata": {
    "collapsed": false
   },
   "outputs": [
    {
     "data": {
      "text/html": [
       "<div>\n",
       "<table border=\"1\" class=\"dataframe\">\n",
       "  <thead>\n",
       "    <tr style=\"text-align: right;\">\n",
       "      <th></th>\n",
       "      <th>GID</th>\n",
       "      <th>Team</th>\n",
       "      <th>Name</th>\n",
       "      <th>Position</th>\n",
       "      <th>Salary</th>\n",
       "      <th>DK points</th>\n",
       "    </tr>\n",
       "  </thead>\n",
       "  <tbody>\n",
       "    <tr>\n",
       "      <th>266</th>\n",
       "      <td>5159</td>\n",
       "      <td>Falcons</td>\n",
       "      <td>Sanu, Mohamed</td>\n",
       "      <td>WR</td>\n",
       "      <td>4500</td>\n",
       "      <td>12.80</td>\n",
       "    </tr>\n",
       "    <tr>\n",
       "      <th>1033</th>\n",
       "      <td>5447</td>\n",
       "      <td>Bears</td>\n",
       "      <td>Howard, Jordan</td>\n",
       "      <td>RB</td>\n",
       "      <td>4900</td>\n",
       "      <td>35.40</td>\n",
       "    </tr>\n",
       "    <tr>\n",
       "      <th>2544</th>\n",
       "      <td>4538</td>\n",
       "      <td>Packers</td>\n",
       "      <td>Kendricks, Lance</td>\n",
       "      <td>TE</td>\n",
       "      <td>2500</td>\n",
       "      <td>13.20</td>\n",
       "    </tr>\n",
       "    <tr>\n",
       "      <th>2569</th>\n",
       "      <td>1518</td>\n",
       "      <td>Texans</td>\n",
       "      <td>Watson, Deshaun</td>\n",
       "      <td>QB</td>\n",
       "      <td>4700</td>\n",
       "      <td>25.14</td>\n",
       "    </tr>\n",
       "    <tr>\n",
       "      <th>3502</th>\n",
       "      <td>5252</td>\n",
       "      <td>Rams</td>\n",
       "      <td>Watkins, Sammy</td>\n",
       "      <td>WR</td>\n",
       "      <td>5500</td>\n",
       "      <td>31.60</td>\n",
       "    </tr>\n",
       "    <tr>\n",
       "      <th>4072</th>\n",
       "      <td>5255</td>\n",
       "      <td>Patriots</td>\n",
       "      <td>Cooks, Brandin</td>\n",
       "      <td>WR</td>\n",
       "      <td>7300</td>\n",
       "      <td>35.10</td>\n",
       "    </tr>\n",
       "    <tr>\n",
       "      <th>6331</th>\n",
       "      <td>2915</td>\n",
       "      <td>Redskins</td>\n",
       "      <td>Thompson, Chris</td>\n",
       "      <td>RB</td>\n",
       "      <td>4500</td>\n",
       "      <td>33.80</td>\n",
       "    </tr>\n",
       "    <tr>\n",
       "      <th>26</th>\n",
       "      <td>7024</td>\n",
       "      <td>Steelers</td>\n",
       "      <td>Pittsburgh</td>\n",
       "      <td>DST</td>\n",
       "      <td>3400</td>\n",
       "      <td>6.00</td>\n",
       "    </tr>\n",
       "  </tbody>\n",
       "</table>\n",
       "</div>"
      ],
      "text/plain": [
       "       GID       Team              Name Position  Salary  DK points\n",
       "266   5159   Falcons      Sanu, Mohamed       WR    4500      12.80\n",
       "1033  5447     Bears     Howard, Jordan       RB    4900      35.40\n",
       "2544  4538   Packers   Kendricks, Lance       TE    2500      13.20\n",
       "2569  1518    Texans    Watson, Deshaun       QB    4700      25.14\n",
       "3502  5252      Rams     Watkins, Sammy       WR    5500      31.60\n",
       "4072  5255  Patriots     Cooks, Brandin       WR    7300      35.10\n",
       "6331  2915  Redskins    Thompson, Chris       RB    4500      33.80\n",
       "26    7024  Steelers         Pittsburgh      DST    3400       6.00"
      ]
     },
     "execution_count": 185,
     "metadata": {},
     "output_type": "execute_result"
    }
   ],
   "source": [
    "df.loc[df.GID.isin(bestteam.GID.values), ['GID', 'Team', 'Name', 'Position', 'Salary', 'DK points']]"
   ]
  },
  {
   "cell_type": "code",
   "execution_count": null,
   "metadata": {
    "collapsed": true
   },
   "outputs": [],
   "source": []
  }
 ],
 "metadata": {
  "kernelspec": {
   "display_name": "Python 3",
   "language": "python",
   "name": "python3"
  },
  "language_info": {
   "codemirror_mode": {
    "name": "ipython",
    "version": 3
   },
   "file_extension": ".py",
   "mimetype": "text/x-python",
   "name": "python",
   "nbconvert_exporter": "python",
   "pygments_lexer": "ipython3",
   "version": "3.5.2"
  }
 },
 "nbformat": 4,
 "nbformat_minor": 0
}
